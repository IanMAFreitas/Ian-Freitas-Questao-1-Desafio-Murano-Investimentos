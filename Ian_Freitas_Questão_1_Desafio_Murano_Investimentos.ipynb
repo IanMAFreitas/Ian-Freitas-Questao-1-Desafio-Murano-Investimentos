{
  "nbformat": 4,
  "nbformat_minor": 0,
  "metadata": {
    "colab": {
      "name": "Ian Freitas Questão 1 Desafio Murano Investimentos.ipynb",
      "provenance": []
    },
    "kernelspec": {
      "name": "python3",
      "display_name": "Python 3"
    },
    "language_info": {
      "name": "python"
    }
  },
  "cells": [
    {
      "cell_type": "code",
      "metadata": {
        "id": "dTsXbaWVKy9F",
        "outputId": "9db39dc9-45a2-4f5d-827c-6db414c36f6e",
        "colab": {
          "base_uri": "https://localhost:8080/"
        }
      },
      "source": [
        "def Q1(A, B):\n",
        "  A = A + B\n",
        "  B = A - B\n",
        "  A = A - B\n",
        "  print('A = '+str(A))\n",
        "  print('B = '+str(B))\n",
        "\n",
        "Q1(3,5)"
      ],
      "execution_count": 1,
      "outputs": [
        {
          "output_type": "stream",
          "text": [
            "A = 5\n",
            "B = 3\n"
          ],
          "name": "stdout"
        }
      ]
    }
  ]
}